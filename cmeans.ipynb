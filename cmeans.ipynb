{
 "cells": [
  {
   "cell_type": "code",
   "execution_count": 1,
   "metadata": {},
   "outputs": [],
   "source": [
    "import numpy as np\n",
    "import matplotlib.cm as cm\n",
    "import random\n",
    "from matplotlib import pyplot as plt"
   ]
  },
  {
   "cell_type": "code",
   "execution_count": 23,
   "metadata": {},
   "outputs": [],
   "source": [
    "import pandas as pd\n"
   ]
  },
  {
   "cell_type": "code",
   "execution_count": 24,
   "metadata": {},
   "outputs": [],
   "source": [
    "def get_distance(x1, x2, y1, y2):\n",
    "    return np.sqrt((x1 - x2) ** 2 + (y1 - y2) ** 2)"
   ]
  },
  {
   "cell_type": "code",
   "execution_count": 25,
   "metadata": {},
   "outputs": [],
   "source": [
    "def get_membership_coefficient(dist):\n",
    "    return (1/dist)**(2/(coefficient-1))"
   ]
  },
  {
   "cell_type": "code",
   "execution_count": 26,
   "metadata": {},
   "outputs": [],
   "source": [
    "def get_average(centers):\n",
    "    cluster_mean_ax = 0\n",
    "    cluster_mean_bx = 0\n",
    "    cluster_mean_ay = 0\n",
    "    cluster_mean_by = 0\n",
    "    for index, membership_coefficient in enumerate(membership_coefficients_to_center_1):\n",
    "        cluster_mean_ax = cluster_mean_ax + (membership_coefficient**coefficient)\n",
    "        cluster_mean_bx = cluster_mean_bx + (membership_coefficient**coefficient) * dataset[:, 0][index]\n",
    "        cluster_mean_ay = cluster_mean_ay + (membership_coefficient**coefficient)\n",
    "        cluster_mean_by = cluster_mean_by + (membership_coefficient**coefficient) * dataset[:, 1][index]\n",
    "    centers[1] = [cluster_mean_bx/cluster_mean_ax, cluster_mean_by/cluster_mean_ay]\n",
    "\n",
    "    cluster_mean_ax = 0\n",
    "    cluster_mean_bx = 0\n",
    "    cluster_mean_ay = 0\n",
    "    cluster_mean_by = 0\n",
    "    for index, membership_coefficient in enumerate(membership_coefficients_to_center_2):\n",
    "        cluster_mean_ax = cluster_mean_ax + (membership_coefficient ** coefficient)\n",
    "        cluster_mean_bx = cluster_mean_bx + (membership_coefficient ** coefficient) * dataset[:, 0][index]\n",
    "        cluster_mean_ay = cluster_mean_ay + (membership_coefficient ** coefficient)\n",
    "        cluster_mean_by = cluster_mean_by + (membership_coefficient ** coefficient) * dataset[:, 1][index]\n",
    "    centers[2] = [cluster_mean_bx / cluster_mean_ax, cluster_mean_by / cluster_mean_ay]\n",
    "    return centers"
   ]
  },
  {
   "cell_type": "code",
   "execution_count": 27,
   "metadata": {},
   "outputs": [],
   "source": [
    "def show_result():\n",
    "    for i in centers.keys():\n",
    "        plt.scatter(*centers[i], color=colors[i])\n",
    "    for j, f, s in zip(range(len(dataset[:, 0])), membership_coefficients_to_center_1, membership_coefficients_to_center_2):\n",
    "        if f > s:\n",
    "            plt.scatter(dataset[:, 0][j], dataset[:, 1][j], color=colors[1])\n",
    "        else:\n",
    "            plt.scatter(dataset[:, 0][j], dataset[:, 1][j], color=colors[2])\n",
    "    plt.show()\n"
   ]
  },
  {
   "cell_type": "code",
   "execution_count": 33,
   "metadata": {},
   "outputs": [
    {
     "data": {
      "image/png": "[encoded data removed]",
      "text/plain": [
       "<Figure size 288x288 with 1 Axes>"
      ]
     },
     "metadata": {
      "needs_background": "light"
     },
     "output_type": "display_data"
    },
    {
     "data": {
      "image/png": "[encoded data removed]",
      "text/plain": [
       "<Figure size 432x288 with 1 Axes>"
      ]
     },
     "metadata": {
      "needs_background": "light"
     },
     "output_type": "display_data"
    }
   ],
   "source": [
    "k = 2\n",
    "coefficient = 0.2\n",
    "eps = 0.3\n",
    "np.random.seed(158)\n",
    "centers = {\n",
    "    i+1: [np.random.randint(0, 100), np.random.randint(0, 100)]\n",
    "    for i in range(k)\n",
    "}\n",
    "n = 150\n",
    "dataset = np.array([[np.random.uniform(0, n), np.random.uniform(0, n)] for k in range(n // 2)])\n",
    "dataset\n",
    "colors = {1: 'r', 2: 'g', 3: 'b'}\n",
    "plt.figure(figsize=(4, 4))\n",
    "plt.scatter(dataset[:, 0], dataset[:, 1], color='k')\n",
    "plt.show()\n",
    "clusters = [[] for _ in range(k)]\n",
    "\n",
    "plt.xlim(0, 100)\n",
    "plt.ylim(0, 100)\n",
    "\n",
    "membership_coefficients_to_center_1 = []\n",
    "membership_coefficients_to_center_2 = []"
   ]
  },
  {
   "cell_type": "code",
   "execution_count": 34,
   "metadata": {},
   "outputs": [],
   "source": [
    "def fill_clusters():\n",
    "    global clusters\n",
    "    clusters = [[] for _ in range(k)]\n",
    "    distances_to_center_1 = []\n",
    "    distances_to_center_2 = []\n",
    "    global membership_coefficients_to_center_1\n",
    "    global membership_coefficients_to_center_2\n",
    "    membership_coefficients_to_center_1 = []\n",
    "    membership_coefficients_to_center_2 = []\n",
    "    sum = 0\n",
    "\n",
    "    for i, j in zip(dataset[:, 0], dataset[:, 1]):\n",
    "        distances_to_center_1.append(get_distance(i, centers[1][0], j, centers[1][1]))\n",
    "        distances_to_center_2.append(get_distance(i, centers[2][0], j, centers[2][1]))\n",
    "\n",
    "    for distance_to_center_1, distance_to_center_2 in zip(distances_to_center_1, distances_to_center_2):\n",
    "        membership_coefficient_to_center_1 = get_membership_coefficient(distance_to_center_1)\n",
    "        membership_coefficient_to_center_2 = get_membership_coefficient(distance_to_center_2)\n",
    "        membership_coefficients_to_center_1.append(membership_coefficient_to_center_1/(membership_coefficient_to_center_1+membership_coefficient_to_center_2))\n",
    "        membership_coefficients_to_center_2.append(membership_coefficient_to_center_2/(membership_coefficient_to_center_1+membership_coefficient_to_center_2))\n",
    "\n",
    "    for i in range(len(distances_to_center_1)):\n",
    "        sum = sum + ((distances_to_center_1[i] * membership_coefficients_to_center_1[i]) + (distances_to_center_2[i] * membership_coefficients_to_center_2[i]))\n",
    "\n",
    "    return sum\n"
   ]
  },
  {
   "cell_type": "code",
   "execution_count": 35,
   "metadata": {},
   "outputs": [
    {
     "data": {
      "image/png": "[encoded data removed]",
      "text/plain": [
       "<Figure size 432x288 with 1 Axes>"
      ]
     },
     "metadata": {
      "needs_background": "light"
     },
     "output_type": "display_data"
    },
    {
     "name": "stdout",
     "output_type": "stream",
     "text": [
      "{1: [29, 78], 2: [14, 45]}\n",
      "{1: [29, 78], 2: [14, 45]}\n",
      "{1: [75.8823631892256, 65.63466972322709], 2: [76.24588363240592, 72.30047795483823]}\n",
      "{1: [29, 78], 2: [14, 45]}\n",
      "0\n",
      "6038.8184897260635\n",
      "0.3\n"
     ]
    },
    {
     "data": {
      "image/png": "[encoded data removed]",
      "text/plain": [
       "<Figure size 432x288 with 1 Axes>"
      ]
     },
     "metadata": {
      "needs_background": "light"
     },
     "output_type": "display_data"
    },
    {
     "name": "stdout",
     "output_type": "stream",
     "text": [
      "{1: [75.8823631892256, 65.63466972322709], 2: [76.24588363240592, 72.30047795483823]}\n",
      "{1: [75.8823631892256, 65.63466972322709], 2: [76.24588363240592, 72.30047795483823]}\n",
      "{1: [75.01126652003073, 70.20459783913608], 2: [75.0580569363119, 68.44213074726729]}\n",
      "{1: [75.8823631892256, 65.63466972322709], 2: [76.24588363240592, 72.30047795483823]}\n",
      "6038.8184897260635\n",
      "4315.786373717028\n",
      "0.3\n"
     ]
    },
    {
     "data": {
      "image/png": "[encoded data removed]",
      "text/plain": [
       "<Figure size 432x288 with 1 Axes>"
      ]
     },
     "metadata": {
      "needs_background": "light"
     },
     "output_type": "display_data"
    },
    {
     "name": "stdout",
     "output_type": "stream",
     "text": [
      "{1: [75.01126652003073, 70.20459783913608], 2: [75.0580569363119, 68.44213074726729]}\n",
      "{1: [75.01126652003073, 70.20459783913608], 2: [75.0580569363119, 68.44213074726729]}\n",
      "{1: [75.06055548766267, 69.06802966167362], 2: [75.01571523372306, 69.53585970026153]}\n",
      "{1: [75.01126652003073, 70.20459783913608], 2: [75.0580569363119, 68.44213074726729]}\n",
      "4315.786373717028\n",
      "4286.466370163966\n",
      "0.3\n"
     ]
    },
    {
     "data": {
      "image/png": "[encoded data removed]",
      "text/plain": [
       "<Figure size 432x288 with 1 Axes>"
      ]
     },
     "metadata": {
      "needs_background": "light"
     },
     "output_type": "display_data"
    },
    {
     "name": "stdout",
     "output_type": "stream",
     "text": [
      "{1: [75.06055548766267, 69.06802966167362], 2: [75.01571523372306, 69.53585970026153]}\n",
      "{1: [75.06055548766267, 69.06802966167362], 2: [75.01571523372306, 69.53585970026153]}\n",
      "{1: [75.02850205219825, 69.36300791367658], 2: [75.04805174111, 69.23817827959374]}\n",
      "{1: [75.06055548766267, 69.06802966167362], 2: [75.01571523372306, 69.53585970026153]}\n",
      "4286.466370163966\n",
      "4284.5224746689055\n",
      "0.3\n"
     ]
    },
    {
     "data": {
      "image/png": "[encoded data removed]",
      "text/plain": [
       "<Figure size 432x288 with 1 Axes>"
      ]
     },
     "metadata": {
      "needs_background": "light"
     },
     "output_type": "display_data"
    },
    {
     "name": "stdout",
     "output_type": "stream",
     "text": [
      "{1: [75.02850205219825, 69.36300791367658], 2: [75.04805174111, 69.23817827959374]}\n",
      "{1: [75.02850205219825, 69.36300791367658], 2: [75.04805174111, 69.23817827959374]}\n",
      "{1: [75.04178864365447, 69.28376996079112], 2: [75.03478913984405, 69.3172244037665]}\n",
      "{1: [75.02850205219825, 69.36300791367658], 2: [75.04805174111, 69.23817827959374]}\n",
      "4284.5224746689055\n",
      "4284.381888402153\n",
      "0.3\n",
      "Count of iterations:  4\n"
     ]
    }
   ],
   "source": [
    "count = 0\n",
    "sum = 0\n",
    "show_result()\n",
    "while(True):\n",
    "    old_sum = sum\n",
    "    sum = fill_clusters()\n",
    "    print(centers)\n",
    "    old_centers = centers.copy()\n",
    "    print(old_centers)\n",
    "    new_centers = get_average(centers).copy()\n",
    "    print(new_centers)\n",
    "    centers = new_centers.copy()\n",
    "    print(old_centers)\n",
    "    print(old_sum)\n",
    "    print (sum)\n",
    "    print(eps)\n",
    "    if abs(old_sum - sum) < eps:\n",
    "        print(\"Count of iterations: \", count)\n",
    "        break\n",
    "    show_result()\n",
    "    count = count + 1"
   ]
  },
  {
   "cell_type": "code",
   "execution_count": null,
   "metadata": {},
   "outputs": [],
   "source": []
  }
 ],
 "metadata": {
  "kernelspec": {
   "display_name": "Python 3",
   "language": "python",
   "name": "python3"
  },
  "language_info": {
   "codemirror_mode": {
    "name": "ipython",
    "version": 3
   },
   "file_extension": ".py",
   "mimetype": "text/x-python",
   "name": "python",
   "nbconvert_exporter": "python",
   "pygments_lexer": "ipython3",
   "version": "3.8.3"
  }
 },
 "nbformat": 4,
 "nbformat_minor": 4
}
