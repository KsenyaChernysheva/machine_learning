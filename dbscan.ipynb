{
 "cells": [
  {
   "cell_type": "code",
   "execution_count": 1,
   "metadata": {},
   "outputs": [],
   "source": [
    "import numpy as np\n",
    "import matplotlib.pyplot as plt"
   ]
  },
  {
   "cell_type": "code",
   "execution_count": 2,
   "metadata": {},
   "outputs": [],
   "source": [
    "class Point:\n",
    "    visited = False\n",
    "    group = \"BRAK\"\n",
    "    iloscSasiadow = 0\n",
    "    \n",
    "    def __init__(self,coord):\n",
    "        if (len(coord) == 0):\n",
    "            self.x = np.random.random()\n",
    "            self.y = np.random.random()\n",
    "            self.coord = []\n",
    "            self.coord.append(self.x)\n",
    "            self.coord.append(self.y)\n",
    "        else:\n",
    "            self.x = coord[0]\n",
    "            self.y = coord[1]\n",
    "            self.coord = coord"
   ]
  },
  {
   "cell_type": "code",
   "execution_count": 3,
   "metadata": {},
   "outputs": [],
   "source": [
    "def dist(p1 , p2):\n",
    "    return ((p1.x - p2.x) ** 2 + (p1.y - p2.y) ** 2) ** (1/2)"
   ]
  },
  {
   "cell_type": "code",
   "execution_count": 4,
   "metadata": {},
   "outputs": [],
   "source": [
    "def dbscan_pklasa(points, minPts = 10, eps = 0.1):\n",
    "    groupNo = 0\n",
    "    for point in points:\n",
    "        if point.visited == True :\n",
    "            continue\n",
    "        point.visited = True\n",
    "        neighbourPts = getNeighbour(point, points , eps)\n",
    "        if len(neighbourPts) <= minPts :\n",
    "            point.group = \"NOISE\" \n",
    "        else:\n",
    "            groupNo+=1\n",
    "            expandCluster(point, neighbourPts, groupNo, eps, minPts, points)\t\t\n",
    "    return groupNo"
   ]
  },
  {
   "cell_type": "code",
   "execution_count": 5,
   "metadata": {},
   "outputs": [],
   "source": [
    "def getNeighbour(point,points,eps):\n",
    "    neighbour = []\n",
    "    for potNeig in points:\n",
    "        if (dist(potNeig , point) < eps) and (point != potNeig):\n",
    "            neighbour.append(potNeig)\n",
    "    point.iloscSasiadow = len(neighbour)\n",
    "    return neighbour"
   ]
  },
  {
   "cell_type": "code",
   "execution_count": 6,
   "metadata": {},
   "outputs": [],
   "source": [
    "def expandCluster(point, neighbour, groupNo, eps, minPts, points):\n",
    "    point.group = \"CLUSTER\" + str(groupNo)\n",
    "    cluster = []\n",
    "    cluster.extend(neighbour)\n",
    "\n",
    "    while( len(cluster) > 0 ):\n",
    "        newPoint = cluster[0]\n",
    "        if (newPoint.visited == False):\n",
    "            newPoint.visited = True\n",
    "            newPointNeigh = getNeighbour(newPoint, points, eps)\n",
    "            if ( len(newPointNeigh) >= minPts):\n",
    "                cluster.extend(newPointNeigh)\n",
    "        if (newPoint.group == \"BRAK\" or newPoint.group == \"NOISE\"):\n",
    "            newPoint.group = \"CLUSTER\" + str(groupNo)\n",
    "        del cluster[0]\n"
   ]
  },
  {
   "cell_type": "code",
   "execution_count": 8,
   "metadata": {},
   "outputs": [
    {
     "name": "stdout",
     "output_type": "stream",
     "text": [
      "6\n"
     ]
    }
   ],
   "source": [
    "punkty = []\n",
    "for x in range(300):\n",
    "    punkty.append(Point([]))\n",
    "\n",
    "iloscClustrow = dbscan_pklasa(punkty)\n",
    "print(iloscClustrow)"
   ]
  },
  {
   "cell_type": "code",
   "execution_count": 13,
   "metadata": {},
   "outputs": [
    {
     "data": {
      "image/png": "[encoded data removed]",
      "text/plain": [
       "<Figure size 432x288 with 1 Axes>"
      ]
     },
     "metadata": {
      "needs_background": "light"
     },
     "output_type": "display_data"
    }
   ],
   "source": [
    "colors = plt.cm.Spectral(np.linspace(0, 1, iloscClustrow))\n",
    "group = 1\n",
    "\n",
    "for col in colors:\n",
    "    for pkt in punkty:\n",
    "        if (pkt.group == \"CLUSTER\"+str(group)):\n",
    "            size = 8\n",
    "            if(pkt.iloscSasiadow > 10):\n",
    "                size = 16\n",
    "            plt.plot(pkt.x,pkt.y, 'o', markerfacecolor=col, markeredgecolor='k')\n",
    "    group+=1\n",
    "\n",
    "x = []\n",
    "y = []\n",
    "for pkt in punkty:\n",
    "    if (pkt.group == \"NOISE\"):\n",
    "        x.append(pkt.x)\n",
    "        y.append(pkt.y)\n",
    "plt.plot(x,y, 'o', markerfacecolor=\"black\", markeredgecolor='k')\n",
    "plt.title('Количество кластеров: %d' % iloscClustrow)\n",
    "plt.show()"
   ]
  },
  {
   "cell_type": "code",
   "execution_count": null,
   "metadata": {},
   "outputs": [],
   "source": []
  }
 ],
 "metadata": {
  "kernelspec": {
   "display_name": "Python 3",
   "language": "python",
   "name": "python3"
  },
  "language_info": {
   "codemirror_mode": {
    "name": "ipython",
    "version": 3
   },
   "file_extension": ".py",
   "mimetype": "text/x-python",
   "name": "python",
   "nbconvert_exporter": "python",
   "pygments_lexer": "ipython3",
   "version": "3.8.3"
  }
 },
 "nbformat": 4,
 "nbformat_minor": 4
}
