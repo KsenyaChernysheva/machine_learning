{
 "cells": [
  {
   "cell_type": "code",
   "execution_count": 3,
   "metadata": {},
   "outputs": [],
   "source": [
    "import matplotlib.pyplot as plt\n",
    "import numpy as np\n",
    "import networkx as nx\n",
    "import sys\n",
    "import pandas as pd"
   ]
  },
  {
   "cell_type": "code",
   "execution_count": 16,
   "metadata": {},
   "outputs": [
    {
     "name": "stdout",
     "output_type": "stream",
     "text": [
      "[[0, 0, 0, 0, 0, 0], [0, 0, 0, 0, 0, 0], [0, 0, 0, 0, 0, 0], [0, 0, 0, 0, 0, 0], [0, 0, 0, 0, 0, 0], [0, 0, 0, 0, 0, 0]]\n"
     ]
    }
   ],
   "source": [
    "n=6\n",
    "matrix=[[0]*n]*n\n",
    "for i in range(n):\n",
    "    matrix[i][n-i-1]=0\n",
    "    for j in range(0,i):\n",
    "        matrix[j][i]=matrix[i][j]\n",
    "\n",
    "print(matrix)"
   ]
  },
  {
   "cell_type": "code",
   "execution_count": 17,
   "metadata": {},
   "outputs": [],
   "source": [
    "def first_connect(matrix, connect):\n",
    "    connect_pnt = np.zeros(n)\n",
    "    minim = sys.maxsize\n",
    "    i_min, j_min = 0, 1\n",
    "    for i in range(n):\n",
    "        for j in range(i+1, n):\n",
    "            if minim > matrix[i][j]:\n",
    "                minim = matrix[i][j]\n",
    "                i_min, j_min = i, j\n",
    "    connect[i_min][j_min] = minim\n",
    "    connect[j_min][i_min] = minim\n",
    "    matrix[i_min][j_min] = sys.maxsize\n",
    "    matrix[j_min][i_min] = sys.maxsize\n",
    "    connect_pnt[i_min] = connect_pnt[j_min] = 1\n",
    "    return connect_pnt"
   ]
  },
  {
   "cell_type": "code",
   "execution_count": 18,
   "metadata": {},
   "outputs": [],
   "source": [
    "def neighb(matrix, connect, connect_pnt):\n",
    "    minim = sys.maxsize\n",
    "    i_min, j_min = None, None\n",
    "    for i in range(n):\n",
    "        if connect_pnt[i] == 1:\n",
    "            for j in range(n):\n",
    "                if connect_pnt[j] == 0:\n",
    "                    if minim > matrix[i][j]:\n",
    "                        minim = matrix[i][j]\n",
    "                        i_min, j_min = i, j\n",
    "    connect[i_min][j_min] = minim\n",
    "    connect[j_min][i_min] = minim\n",
    "    matrix[i_min][j_min] = sys.maxsize\n",
    "    matrix[j_min][i_min] = sys.maxsize\n",
    "    connect_pnt[i_min] = connect_pnt[j_min] = 1"
   ]
  },
  {
   "cell_type": "code",
   "execution_count": 19,
   "metadata": {},
   "outputs": [],
   "source": [
    "def plot_graph(connect, n):\n",
    "    G = nx.Graph(strict=False)\n",
    "    for i in range(n):\n",
    "        G.add_node(i)\n",
    "    for i in range(n):\n",
    "        for j in range(n):\n",
    "            if connect[i][j] != 0:\n",
    "                G.add_edge(i,j, matrix=connect[i][j])\n",
    "                G.add_edges_from([(i, j, {'matrix': connect[i][j]})])\n",
    "                connect[i][j] = connect[j][i] = 0 \n",
    "    nx.draw_circular(G, with_labels=True)\n",
    "    pos = nx.circular_layout(G)\n",
    "    edge_labels = nx.get_edge_attributes(G,'matrix')\n",
    "    nx.draw_networkx_edge_labels(G, pos=pos, edge_labels = edge_labels)"
   ]
  },
  {
   "cell_type": "code",
   "execution_count": 20,
   "metadata": {},
   "outputs": [],
   "source": [
    "def cluster(cl, connect, clust_pnt): \n",
    "    clust = []\n",
    "    for i in range(n): \n",
    "        for j in range(n): \n",
    "            if connect[i][j] == 0: \n",
    "                continue\n",
    "            if len(clust) == 0:\n",
    "                clust.append(i)\n",
    "                clust.append(j)\n",
    "                connect[i][j] = connect[j][i] = 0 \n",
    "    m = clust[0]\n",
    "    old_m = -1\n",
    "    while old_m != m:\n",
    "        old_m = m\n",
    "        for j in range(n):\n",
    "            if connect[m][j] == 0: \n",
    "                continue\n",
    "            else:\n",
    "                clust.append(j)\n",
    "                connect[m][j] = connect[j][m] = 0\n",
    "                m = j\n",
    "    m = clust[1]\n",
    "    old_m = -1\n",
    "    while old_m != m:\n",
    "        old_m = m\n",
    "        for j in range(n):\n",
    "            if connect[m][j] == 0: \n",
    "                continue\n",
    "            else:\n",
    "                clust.append(j)\n",
    "                connect[m][j] = connect[j][m] = 0\n",
    "                m = j\n",
    "    for i in clust:\n",
    "        clust_pnt[i] = cl"
   ]
  },
  {
   "cell_type": "code",
   "execution_count": 21,
   "metadata": {},
   "outputs": [],
   "source": [
    "def delete_connect(connect):\n",
    "    maxim = 0\n",
    "    i_max, j_max = 0, 0\n",
    "    for i in range(n):\n",
    "        for j in range(i+1, n):\n",
    "            if connect[i][j] > maxim:\n",
    "                maxim = connect[i][j]\n",
    "                i_max, j_max = i, j\n",
    "    connect[i_max][j_max] = connect[j_max][i_max] = 0"
   ]
  },
  {
   "cell_type": "code",
   "execution_count": 22,
   "metadata": {},
   "outputs": [],
   "source": [
    "def knp(matrix, n, k):\n",
    "    connect = [[0 for i in range(n)] for j in range(n)]\n",
    "    connect_pnt = first_connect(matrix, connect)\n",
    "    while 0 in connect_pnt:\n",
    "        neighb(matrix, connect, connect_pnt)\n",
    "    for i in range(k-1):\n",
    "        delete_connect(connect)\n",
    "    clust_pnt = np.zeros(n)\n",
    "    old_connect = np.zeros((n,n))\n",
    "    for i in range(n):\n",
    "        for j in range(n):\n",
    "            old_connect[i][j] = connect[i][j]\n",
    "    for i in range(1, k):\n",
    "        cluster(i, connect, clust_pnt)\n",
    "    plot_graph(old_connect, n)\n",
    "    return clust_pnt"
   ]
  },
  {
   "cell_type": "code",
   "execution_count": 23,
   "metadata": {},
   "outputs": [
    {
     "data": {
      "text/plain": [
       "[[0, 18, 71, 65, 9, 56],\n",
       " [18, 0, 23, 30, 32, 46],\n",
       " [71, 23, 0, 52, 3, 67],\n",
       " [65, 30, 52, 0, 63, 89],\n",
       " [9, 32, 3, 63, 0, 4],\n",
       " [56, 46, 67, 89, 4, 0]]"
      ]
     },
     "execution_count": 23,
     "metadata": {},
     "output_type": "execute_result"
    }
   ],
   "source": [
    "n, k = 6, 2\n",
    "matrix = [[0 for i in range(n)] for j in range(n)]\n",
    "for i in range(n):\n",
    "    for j in range(i + 1, n):\n",
    "        matrix[i][j] = np.random.randint(1, 100)\n",
    "        matrix[j][i] = matrix[i][j]      \n",
    "matrix"
   ]
  },
  {
   "cell_type": "code",
   "execution_count": 24,
   "metadata": {},
   "outputs": [
    {
     "data": {
      "image/png": "[encoded data removed]",
      "text/plain": [
       "<Figure size 432x288 with 1 Axes>"
      ]
     },
     "metadata": {},
     "output_type": "display_data"
    }
   ],
   "source": [
    "clust_pnt = knp(matrix, n, k)"
   ]
  },
  {
   "cell_type": "code",
   "execution_count": null,
   "metadata": {},
   "outputs": [],
   "source": []
  }
 ],
 "metadata": {
  "kernelspec": {
   "display_name": "Python 3",
   "language": "python",
   "name": "python3"
  },
  "language_info": {
   "codemirror_mode": {
    "name": "ipython",
    "version": 3
   },
   "file_extension": ".py",
   "mimetype": "text/x-python",
   "name": "python",
   "nbconvert_exporter": "python",
   "pygments_lexer": "ipython3",
   "version": "3.8.3"
  }
 },
 "nbformat": 4,
 "nbformat_minor": 4
}
